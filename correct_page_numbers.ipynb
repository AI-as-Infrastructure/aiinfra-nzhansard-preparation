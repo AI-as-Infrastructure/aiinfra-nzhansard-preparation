{
 "cells": [
  {
   "cell_type": "code",
   "execution_count": null,
   "metadata": {},
   "outputs": [],
   "source": [
    "# This script is used to correct page numbers in the ocr_output .txt files so that the resulting page numbers reflect the page number of the original Hansard source rather than the Google pdf (so, the page number at the top of the Hansard pdf images, not your pdf viewer.)\n",
    "# Configure the variables / targets and run only as and when required.\n",
    "\n",
    "import os\n",
    "import re\n",
    "\n",
    "directory = 'output/sessions/3.August29-September25-1901'\n",
    "start_page = 17  # The page number in the original document where counting starts\n",
    "delete_unwanted = 'Yes'  # Flag to delete all content before start_page\n",
    "\n",
    "def correct_page_numbers(start_page, delete_unwanted):\n",
    "    # Get a list of all .txt files in the directory\n",
    "    files = [f for f in os.listdir(directory) if f.endswith('.txt')]\n",
    "    # Sort the list of files based on the first number in the filename\n",
    "    files.sort(key=lambda f: int(re.search(r'(\\d+)-', f).group(1)))\n",
    "    # Initialize the page number to start from 1\n",
    "    global_page_number = 1\n",
    "    # Flag to check if unwanted content has been deleted\n",
    "    unwanted_deleted = False\n",
    "    # For each file in the list\n",
    "    for file in files:\n",
    "        # Open the file and read the content\n",
    "        with open(os.path.join(directory, file), 'r+') as f:\n",
    "            content = f.read()\n",
    "            # If delete_unwanted is set to 'Yes' and unwanted content has not been deleted yet\n",
    "            if delete_unwanted == 'Yes' and not unwanted_deleted:\n",
    "                start_index = content.find(f'<page:{start_page}>')\n",
    "                if start_index != -1:\n",
    "                    content = content[start_index:]\n",
    "                    unwanted_deleted = True\n",
    "            # Find all page number tags in the format <page:xx>\n",
    "            page_tags = re.findall(r'<page:(\\d+)>', content)\n",
    "            # Create a dictionary to map original page numbers to new page numbers\n",
    "            page_map = {}\n",
    "            for tag in page_tags:\n",
    "                original_page_number = int(tag)\n",
    "                page_map[original_page_number] = global_page_number\n",
    "                global_page_number += 1\n",
    "            # Replace the original page numbers with the new page numbers\n",
    "            for original_page_number, new_page_number in page_map.items():\n",
    "                content = content.replace(f'<page:{original_page_number}>', f'<page:{new_page_number}>')\n",
    "            # Save the updated content back to the file\n",
    "            f.seek(0)\n",
    "            f.write(content)\n",
    "            f.truncate()\n",
    "        print(f\"Successfully updated file {file}. Changed pageNumbers: {page_map}\")\n",
    "\n",
    "# Call the function with the start_page and delete_unwanted arguments\n",
    "correct_page_numbers(start_page, delete_unwanted)"
   ]
  }
 ],
 "metadata": {
  "kernelspec": {
   "display_name": "Python 3",
   "language": "python",
   "name": "python3"
  },
  "language_info": {
   "codemirror_mode": {
    "name": "ipython",
    "version": 3
   },
   "file_extension": ".py",
   "mimetype": "text/x-python",
   "name": "python",
   "nbconvert_exporter": "python",
   "pygments_lexer": "ipython3",
   "version": "3.10.12"
  }
 },
 "nbformat": 4,
 "nbformat_minor": 2
}
