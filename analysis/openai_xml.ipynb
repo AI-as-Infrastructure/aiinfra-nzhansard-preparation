{
 "cells": [
  {
   "cell_type": "code",
   "execution_count": 7,
   "metadata": {},
   "outputs": [],
   "source": [
    "# This notebook is used to experiment with xml markup and NER using the Open AI api. Its output is unusable.\n",
    "\n",
    "\n",
    "# Import necessary libraries\n",
    "from openai import OpenAI\n",
    "import pandas as pd\n",
    "import os\n",
    "\n",
    "# Load environment variables from .env file\n",
    "client = OpenAI()\n",
    "# defaults to getting the key using os.environ.get(\"OPENAI_API_KEY\")\n",
    "# if you saved the key under a different environment variable name, you can do something like:\n",
    "# client = OpenAI(\n",
    "#   api_key=os.environ.get(\"CUSTOM_ENV_NAME\"),\n",
    "# )\n",
    "\n",
    "# Define a function to perform NER using OpenAI\n",
    "def perform_xml_markup(text):\n",
    "    # Use the OpenAI API to perform NER with an updated model\n",
    "    response = client.chat.completions.create(\n",
    "        model=\"gpt-3.5-turbo\",\n",
    "        messages=[\n",
    "            {\"role\": \"system\", \"content\": \"You are a helpful technical assistant.\"},\n",
    "            {\"role\": \"user\", \"content\": text},\n",
    "            {\"role\": \"assistant\", \"content\": \"Your task is to mark up the entire provided text with entities using xml. The document needs to be marked up accurately and in full. Here is the text:\\n{text}\"}\n",
    "        ]\n",
    "    )\n",
    "\n",
    "    # Mark up the xml from the response\n",
    "    xml_markup = response.choices[0].message.content\n",
    "\n",
    "    # Return the marked up xml\n",
    "    return xml_markup\n",
    "\n",
    "# Define the path to the file\n",
    "file_path = 'output/sessions/1.July01-July26-1901/1-Monday, 1st July, 1901.txt'\n",
    "\n",
    "# Open the file and read its contents\n",
    "with open(file_path, 'r') as file:\n",
    "    text = file.read()\n",
    "\n",
    "    # Perform XML markup on the text from the file\n",
    "    xml_markup = perform_xml_markup(text)\n",
    "\n",
    "    # Define the path to the output file\n",
    "    output_file_path = 'output/openai/openai_xml.xml'\n",
    "\n",
    "    # Write the XML to the output file\n",
    "    with open(output_file_path, 'w') as file:\n",
    "        file.write(xml_markup)\n"
   ]
  }
 ],
 "metadata": {
  "kernelspec": {
   "display_name": "Python 3",
   "language": "python",
   "name": "python3"
  },
  "language_info": {
   "codemirror_mode": {
    "name": "ipython",
    "version": 3
   },
   "file_extension": ".py",
   "mimetype": "text/x-python",
   "name": "python",
   "nbconvert_exporter": "python",
   "pygments_lexer": "ipython3",
   "version": "3.10.12"
  }
 },
 "nbformat": 4,
 "nbformat_minor": 2
}
