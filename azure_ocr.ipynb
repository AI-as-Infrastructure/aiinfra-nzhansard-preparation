{
 "cells": [
  {
   "cell_type": "code",
   "execution_count": 2,
   "metadata": {},
   "outputs": [],
   "source": [
    "import os, json, re\n",
    "from dotenv import load_dotenv\n",
    "from azure.ai.formrecognizer import DocumentAnalysisClient\n",
    "from azure.core.credentials import AzureKeyCredential\n",
    "\n",
    "# Set the Azure keys by loading the .env file\n",
    "load_dotenv()\n",
    "key = os.environ.get('KEY')\n",
    "endpoint = os.environ.get('ENDPOINT')\n",
    "\n",
    "formUrl = \"https://raw.githubusercontent.com/jamessmithies/nz-hansard-azure-ai-ocr/main/source/1901-July01-July26-14pp.pdf?token=GHSAT0AAAAAACQ3BXR3BUITCHCGPDIHM4CKZQXYVEQ\"\n",
    "\n",
    "document_analysis_client = DocumentAnalysisClient(\n",
    "    endpoint=endpoint, credential=AzureKeyCredential(key)\n",
    ")\n",
    "    \n",
    "poller = document_analysis_client.begin_analyze_document_from_url(\"prebuilt-layout\", formUrl)\n",
    "result = poller.result()\n",
    "\n",
    "if not os.path.exists('source'):\n",
    "    os.makedirs('source')\n",
    "if not os.path.exists('output'):\n",
    "    os.makedirs('output')\n",
    "\n",
    "# Convert the result to a dictionary\n",
    "result_dict = result.to_dict()\n",
    "\n",
    "# Write the dictionary to a JSON file\n",
    "with open('source/ocr_output.json', 'w') as f:\n",
    "    json.dump(result_dict, f)\n",
    "\n"
   ]
  }
 ],
 "metadata": {
  "kernelspec": {
   "display_name": "Python 3",
   "language": "python",
   "name": "python3"
  },
  "language_info": {
   "codemirror_mode": {
    "name": "ipython",
    "version": 3
   },
   "file_extension": ".py",
   "mimetype": "text/x-python",
   "name": "python",
   "nbconvert_exporter": "python",
   "pygments_lexer": "ipython3",
   "version": "3.11.4"
  }
 },
 "nbformat": 4,
 "nbformat_minor": 2
}
