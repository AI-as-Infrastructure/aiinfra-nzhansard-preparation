{
 "cells": [
  {
   "cell_type": "code",
   "execution_count": null,
   "metadata": {},
   "outputs": [],
   "source": [
    "# Performs xml markup and NER using the Open AI api.\n",
    "# Import necessary libraries\n",
    "import openai\n",
    "import pandas as pd\n",
    "from dotenv import load_dotenv\n",
    "import os\n",
    "\n",
    "# Load environment variables from .env file\n",
    "load_dotenv()\n",
    "\n",
    "# Set your OpenAI API key\n",
    "openai.api_key = os.getenv('OPENAI_KEY')\n",
    "\n",
    "# Define a function to perform NER using OpenAI\n",
    "def perform_ner(text):\n",
    "    # Use the OpenAI API to perform NER\n",
    "    response = openai.ChatCompletion.create(\n",
    "      model=\"gpt-3.5-turbo\", \n",
    "      messages=[\n",
    "            {\"role\": \"system\", \"content\": \"You are a helpful assistant.\"},\n",
    "            {\"role\": \"user\", \"content\": f\"{text}\"},\n",
    "            {\"role\": \"assistant\", \"content\": \"What are the named entities in the above text?\"}\n",
    "        ]\n",
    "    )\n",
    "    \n",
    "    # Extract the named entities from the response\n",
    "    entities = response['choices'][0]['message']['content']\n",
    "    \n",
    "    # Return the named entities\n",
    "    return entities\n",
    "\n",
    "# Define the path to the file\n",
    "file_path = 'output/sessions/1.July01-July26-1901/1-Monday, 1st July, 1901.txt'\n",
    "\n",
    "# Open the file and read its contents\n",
    "with open(file_path, 'r') as file:\n",
    "    text = file.read()\n",
    "\n",
    "# Perform NER on the text from the file\n",
    "entities = perform_ner(text)\n",
    "\n",
    "# Define the path to the output file\n",
    "output_file_path = 'output/ner/openai_entities.txt'\n",
    "\n",
    "# Write the entities to the output file\n",
    "with open(output_file_path, 'w') as file:\n",
    "    file.write(entities)\n"
   ]
  }
 ],
 "metadata": {
  "kernelspec": {
   "display_name": "Python 3",
   "language": "python",
   "name": "python3"
  },
  "language_info": {
   "codemirror_mode": {
    "name": "ipython",
    "version": 3
   },
   "file_extension": ".py",
   "mimetype": "text/x-python",
   "name": "python",
   "nbconvert_exporter": "python",
   "pygments_lexer": "ipython3",
   "version": "3.10.12"
  }
 },
 "nbformat": 4,
 "nbformat_minor": 2
}
