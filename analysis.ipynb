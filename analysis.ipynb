{
 "cells": [
  {
   "cell_type": "code",
   "execution_count": null,
   "metadata": {},
   "outputs": [],
   "source": [
    "import os\n",
    "import glob\n",
    "\n",
    "# Initialize counters\n",
    "total_words = 0\n",
    "total_chars = 0\n",
    "session_count = 0\n",
    "people_count = 0\n",
    "places_count = 0\n",
    "\n",
    "# Iterate over all text files in the output/sessions directory\n",
    "for filename in glob.glob('output/sessions/**/*.txt', recursive=True):\n",
    "    with open(filename, 'r') as f:\n",
    "        session_count += 1\n",
    "        text = f.read()\n",
    "        words = text.split()\n",
    "        total_words += len(words)\n",
    "        total_chars += len(text)\n",
    "\n",
    "# Calculate averages\n",
    "avg_words_per_session = total_words / session_count\n",
    "avg_chars_per_session = total_chars / session_count\n",
    "\n",
    "# Count people and places\n",
    "with open('output/ner/nltk_output.txt', 'r') as f:\n",
    "    for line in f:\n",
    "        entity_type, _ = line.strip().split(': ')\n",
    "        if entity_type.lower() == 'person':\n",
    "            people_count += 1\n",
    "        elif entity_type.lower() == 'place':\n",
    "            places_count += 1\n",
    "\n",
    "# Prepare the results\n",
    "results = f\"\"\"\n",
    "Total word count: {total_words}\n",
    "Total character count: {total_chars}\n",
    "Average word count per session: {avg_words_per_session}\n",
    "Average character count per session: {avg_chars_per_session}\n",
    "Number of people: {people_count}\n",
    "Number of places: {places_count}\n",
    "\"\"\"\n",
    "\n",
    "# Ensure the output directory exists\n",
    "os.makedirs('output/analysis', exist_ok=True)\n",
    "\n",
    "# Write the results to a file\n",
    "with open('output/analysis/analysis.txt', 'w') as f:\n",
    "    f.write(results)"
   ]
  }
 ],
 "metadata": {
  "language_info": {
   "name": "python"
  }
 },
 "nbformat": 4,
 "nbformat_minor": 2
}
