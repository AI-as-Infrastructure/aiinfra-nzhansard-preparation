{
 "cells": [
  {
   "cell_type": "code",
   "execution_count": 1,
   "metadata": {},
   "outputs": [],
   "source": [
    "# Performs xml markup and NER using the Open AI api.\n",
    "# Import necessary libraries\n",
    "from openai import OpenAI\n",
    "import pandas as pd\n",
    "import os\n",
    "\n",
    "# Load environment variables from .env file\n",
    "client = OpenAI()\n",
    "# defaults to getting the key using os.environ.get(\"OPENAI_API_KEY\")\n",
    "# if you saved the key under a different environment variable name, you can do something like:\n",
    "# client = OpenAI(\n",
    "#   api_key=os.environ.get(\"CUSTOM_ENV_NAME\"),\n",
    "# )\n",
    "\n",
    "# Define a function to perform NER using OpenAI\n",
    "def perform_ner(text):\n",
    "    # Use the OpenAI API to perform NER with an updated model\n",
    "    response = client.chat.completions.create(\n",
    "        model=\"gpt-3.5-turbo\",\n",
    "        messages=[\n",
    "            {\"role\": \"system\", \"content\": \"You are a helpful assistant.\"},\n",
    "            {\"role\": \"user\", \"content\": text},\n",
    "            {\"role\": \"assistant\", \"content\": \"Identify and extract all named entities from the text provided.\"}\n",
    "        ]\n",
    "    )\n",
    "\n",
    "    # Extract the named entities from the response\n",
    "    entities = response.choices[0].message.content\n",
    "\n",
    "    # Return the named entities\n",
    "    return entities\n",
    "\n",
    "# Define the path to the file\n",
    "file_path = 'output/sessions/1.July01-July26-1901/1-Monday, 1st July, 1901.txt'\n",
    "\n",
    "# Open the file and read its contents\n",
    "with open(file_path, 'r') as file:\n",
    "    text = file.read()\n",
    "\n",
    "    # Perform NER on the text from the file\n",
    "    entities = perform_ner(text)\n",
    "\n",
    "    # Define the path to the output file\n",
    "    output_file_path = 'output/openai/openai_entities.txt'\n",
    "\n",
    "    # Write the entities to the output file\n",
    "    with open(output_file_path, 'w') as file:\n",
    "        file.write(entities)\n"
   ]
  }
 ],
 "metadata": {
  "kernelspec": {
   "display_name": "Python 3",
   "language": "python",
   "name": "python3"
  },
  "language_info": {
   "codemirror_mode": {
    "name": "ipython",
    "version": 3
   },
   "file_extension": ".py",
   "mimetype": "text/x-python",
   "name": "python",
   "nbconvert_exporter": "python",
   "pygments_lexer": "ipython3",
   "version": "3.10.12"
  }
 },
 "nbformat": 4,
 "nbformat_minor": 2
}
