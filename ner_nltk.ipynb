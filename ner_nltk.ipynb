{
 "cells": [
  {
   "cell_type": "code",
   "execution_count": 3,
   "metadata": {},
   "outputs": [
    {
     "name": "stdout",
     "output_type": "stream",
     "text": [
      "Defaulting to user installation because normal site-packages is not writeable\n",
      "Requirement already satisfied: nltk in /home/jimdakinworld/.local/lib/python3.10/site-packages (3.8.1)\n",
      "Requirement already satisfied: tqdm in /home/jimdakinworld/.local/lib/python3.10/site-packages (from nltk) (4.65.0)\n",
      "Requirement already satisfied: regex>=2021.8.3 in /home/jimdakinworld/.local/lib/python3.10/site-packages (from nltk) (2023.6.3)\n",
      "Requirement already satisfied: joblib in /home/jimdakinworld/.local/lib/python3.10/site-packages (from nltk) (1.3.2)\n",
      "Requirement already satisfied: click in /home/jimdakinworld/.local/lib/python3.10/site-packages (from nltk) (8.1.7)\n"
     ]
    },
    {
     "name": "stderr",
     "output_type": "stream",
     "text": [
      "[nltk_data] Downloading package punkt to\n",
      "[nltk_data]     /home/jimdakinworld/nltk_data...\n",
      "[nltk_data]   Package punkt is already up-to-date!\n",
      "[nltk_data] Downloading package averaged_perceptron_tagger to\n",
      "[nltk_data]     /home/jimdakinworld/nltk_data...\n",
      "[nltk_data]   Package averaged_perceptron_tagger is already up-to-\n",
      "[nltk_data]       date!\n",
      "[nltk_data] Downloading package maxent_ne_chunker to\n",
      "[nltk_data]     /home/jimdakinworld/nltk_data...\n",
      "[nltk_data]   Package maxent_ne_chunker is already up-to-date!\n",
      "[nltk_data] Downloading package words to\n",
      "[nltk_data]     /home/jimdakinworld/nltk_data...\n",
      "[nltk_data]   Package words is already up-to-date!\n"
     ]
    },
    {
     "data": {
      "text/plain": [
       "True"
      ]
     },
     "execution_count": 3,
     "metadata": {},
     "output_type": "execute_result"
    }
   ],
   "source": [
    "!pip install nltk\n",
    "import nltk\n",
    "nltk.download('punkt')\n",
    "nltk.download('averaged_perceptron_tagger')\n",
    "nltk.download('maxent_ne_chunker')\n",
    "nltk.download('words')"
   ]
  },
  {
   "cell_type": "code",
   "execution_count": 4,
   "metadata": {},
   "outputs": [],
   "source": [
    "import os\n",
    "from nltk import word_tokenize, pos_tag, ne_chunk\n",
    "\n",
    "# Set the output directory and files\n",
    "output_dir = 'output/ner'\n",
    "os.makedirs(output_dir, exist_ok=True)\n",
    "output_file_people = os.path.join(output_dir, 'nltk_people.txt')\n",
    "output_file_places = os.path.join(output_dir, 'nltk_places.txt')\n",
    "\n",
    "# Function to extract entities of type 'PERSON' and 'GPE'\n",
    "def extract_entities(tree):\n",
    "    people = set()\n",
    "    places = set()\n",
    "    for subtree in tree.subtrees():\n",
    "        if subtree.label() == 'PERSON':\n",
    "            entity = ' '.join(c[0] for c in subtree.leaves())\n",
    "            people.add(entity)\n",
    "        elif subtree.label() == 'GPE':\n",
    "            entity = ' '.join(c[0] for c in subtree.leaves())\n",
    "            places.add(entity)\n",
    "    return people, places\n",
    "\n",
    "# Walk through the directories\n",
    "for root, dirs, files in os.walk(dir_path):\n",
    "    # Loop over each file\n",
    "    for file in files:\n",
    "        # Construct full file path\n",
    "        file_path = os.path.join(root, file)\n",
    "        \n",
    "        # Open and read the file\n",
    "        with open(file_path, 'r') as f:\n",
    "            content = f.read()\n",
    "        \n",
    "        # Tokenize the content\n",
    "        tokenized_content = word_tokenize(content)\n",
    "        \n",
    "        # Part-of-speech tagging\n",
    "        pos_tagged_content = pos_tag(tokenized_content)\n",
    "        \n",
    "        # Named Entity Recognition\n",
    "        ner_content = ne_chunk(pos_tagged_content)\n",
    "        \n",
    "        # Extract entities of type 'PERSON' and 'GPE'\n",
    "        people, places = extract_entities(ner_content)\n",
    "        \n",
    "        # Write the entities to the output files\n",
    "        with open(output_file_people, 'a') as f:\n",
    "            for person in people:\n",
    "                f.write(f'person: {person}\\n')\n",
    "                \n",
    "        with open(output_file_places, 'a') as f:\n",
    "            for place in places:\n",
    "                f.write(f'place: {place}\\n')"
   ]
  }
 ],
 "metadata": {
  "kernelspec": {
   "display_name": "Python 3",
   "language": "python",
   "name": "python3"
  },
  "language_info": {
   "codemirror_mode": {
    "name": "ipython",
    "version": 3
   },
   "file_extension": ".py",
   "mimetype": "text/x-python",
   "name": "python",
   "nbconvert_exporter": "python",
   "pygments_lexer": "ipython3",
   "version": "3.10.12"
  }
 },
 "nbformat": 4,
 "nbformat_minor": 2
}
