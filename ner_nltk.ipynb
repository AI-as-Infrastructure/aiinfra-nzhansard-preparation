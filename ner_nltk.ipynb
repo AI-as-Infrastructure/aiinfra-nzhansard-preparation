{
 "cells": [
  {
   "cell_type": "code",
   "execution_count": null,
   "metadata": {},
   "outputs": [],
   "source": [
    "!pip install nltk\n",
    "import nltk\n",
    "nltk.download('punkt')\n",
    "nltk.download('averaged_perceptron_tagger')\n",
    "nltk.download('maxent_ne_chunker')\n",
    "nltk.download('words')"
   ]
  },
  {
   "cell_type": "code",
   "execution_count": null,
   "metadata": {},
   "outputs": [],
   "source": [
    "import os\n",
    "from nltk import word_tokenize, pos_tag, ne_chunk\n",
    "\n",
    "# Set the directory path\n",
    "dir_path = 'output/sessions'\n",
    "\n",
    "# Set the output directory and file\n",
    "output_dir = 'output/ner'\n",
    "os.makedirs(output_dir, exist_ok=True)\n",
    "output_file = os.path.join(output_dir, 'nltk_output.txt')\n",
    "\n",
    "# Function to extract entities of type 'PERSON' and 'GPE'\n",
    "def extract_entities(tree):\n",
    "    entities = set()  # Change list to set\n",
    "    for subtree in tree.subtrees():\n",
    "        if subtree.label() == 'PERSON':\n",
    "            entity = ' '.join(c[0] for c in subtree.leaves())\n",
    "            entities.add(f'person: {entity}')  # Use add instead of append\n",
    "        elif subtree.label() == 'GPE':\n",
    "            entity = ' '.join(c[0] for c in subtree.leaves())\n",
    "            entities.add(f'place: {entity}')  # Use add instead of append\n",
    "    return entities\n",
    "\n",
    "# Walk through the directories\n",
    "for root, dirs, files in os.walk(dir_path):\n",
    "    # Loop over each file\n",
    "    for file in files:\n",
    "        # Construct full file path\n",
    "        file_path = os.path.join(root, file)\n",
    "        \n",
    "        # Open and read the file\n",
    "        with open(file_path, 'r') as f:\n",
    "            content = f.read()\n",
    "        \n",
    "        # Tokenize the content\n",
    "        tokenized_content = word_tokenize(content)\n",
    "        \n",
    "        # Part-of-speech tagging\n",
    "        pos_tagged_content = pos_tag(tokenized_content)\n",
    "        \n",
    "        # Named Entity Recognition\n",
    "        ner_content = ne_chunk(pos_tagged_content)\n",
    "        \n",
    "        # Extract entities of type 'PERSON' and 'GPE'\n",
    "        entities = extract_entities(ner_content)\n",
    "        \n",
    "        # Write the entities to the output file\n",
    "        with open(output_file, 'a') as f:\n",
    "            for entity in entities:\n",
    "                f.write(entity + '\\n')"
   ]
  }
 ],
 "metadata": {
  "kernelspec": {
   "display_name": "Python 3",
   "language": "python",
   "name": "python3"
  },
  "language_info": {
   "codemirror_mode": {
    "name": "ipython",
    "version": 3
   },
   "file_extension": ".py",
   "mimetype": "text/x-python",
   "name": "python",
   "nbconvert_exporter": "python",
   "pygments_lexer": "ipython3",
   "version": "3.10.12"
  }
 },
 "nbformat": 4,
 "nbformat_minor": 2
}
