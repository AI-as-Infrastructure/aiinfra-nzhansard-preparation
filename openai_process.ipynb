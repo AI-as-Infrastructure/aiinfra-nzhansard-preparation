{
 "cells": [
  {
   "cell_type": "code",
   "execution_count": 4,
   "metadata": {},
   "outputs": [
    {
     "name": "stdout",
     "output_type": "stream",
     "text": [
      "Content cleaned and saved to output/ai_content.md\n"
     ]
    }
   ],
   "source": [
    "# Optionally, you can use the OpenAI API to clean the text. This script uses the OpenAI API to clean the text in the markdown file. Its output cannot be trusted. It is recommended to manually review the output and make any necessary corrections.\n",
    "\n",
    "import openai\n",
    "from dotenv import load_dotenv\n",
    "import os\n",
    "\n",
    "# Load environment variables from .env file\n",
    "load_dotenv()\n",
    "\n",
    "# Retrieve API key from environment\n",
    "api_key = os.getenv(\"OPENAI_API_KEY\")\n",
    "\n",
    "def clean_text_with_openai(text, api_key):\n",
    "    # Instantiate the OpenAI client\n",
    "    openai.api_key = api_key\n",
    "\n",
    "    # Split the text into chunks of approximately 16300 tokens\n",
    "    chunks = [text[i:i+16300] for i in range(0, len(text), 16300)]\n",
    "\n",
    "    cleaned_content = \"\"\n",
    "\n",
    "    for chunk in chunks:\n",
    "        # Use the client to make the API call\n",
    "        response = openai.ChatCompletion.create(\n",
    "            model=\"gpt-3.5-turbo\",\n",
    "            messages=[\n",
    "                {\n",
    "                    \"role\": \"system\",\n",
    "                    \"content\": \"You are a helpful assistant that cleans and formats text. Do not add any commentary about what you have done, just clean the text keeping as accurately as possible to the original. Include all page numbers in the cleaned text in their original locations, indicated in the source file enclosed in tags such as <Page:1>\"\n",
    "                },\n",
    "                {\n",
    "                    \"role\": \"user\",\n",
    "                    \"content\": chunk\n",
    "                }\n",
    "            ],\n",
    "        )\n",
    "\n",
    "        cleaned_content += response['choices'][0]['message']['content'].strip()\n",
    "\n",
    "    return cleaned_content\n",
    "\n",
    "# Define the file paths\n",
    "input_file = 'output/master.txt'  # Path to the markdown file\n",
    "output_file = 'output/ai_master.txt'  # Output file path\n",
    "\n",
    "# Read the content of the markdown file\n",
    "with open(input_file, 'r', encoding='utf-8') as file:\n",
    "    content = file.read()\n",
    "\n",
    "# Clean the content using OpenAI API\n",
    "cleaned_content = clean_text_with_openai(content, api_key)\n",
    "\n",
    "# Write the cleaned content to a new file\n",
    "with open(output_file, 'w', encoding='utf-8') as file:\n",
    "    file.write(cleaned_content)\n",
    "\n",
    "print(\"Content cleaned and saved to\", output_file)"
   ]
  }
 ],
 "metadata": {
  "kernelspec": {
   "display_name": "Python 3",
   "language": "python",
   "name": "python3"
  },
  "language_info": {
   "codemirror_mode": {
    "name": "ipython",
    "version": 3
   },
   "file_extension": ".py",
   "mimetype": "text/x-python",
   "name": "python",
   "nbconvert_exporter": "python",
   "pygments_lexer": "ipython3",
   "version": "3.10.12"
  }
 },
 "nbformat": 4,
 "nbformat_minor": 2
}
